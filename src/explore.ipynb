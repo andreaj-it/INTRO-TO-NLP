{
    "cells": [
        {
            "cell_type": "code",
            "execution_count": 2,
            "metadata": {},
            "outputs": [],
            "source": [
                "import pandas as pd \n",
                "import regex as reg\n",
                "import re\n",
                "import matplotlib.pyplot as plt\n",
                "import unicodedata\n",
                "import nltk\n",
                "import string\n",
                "import pickle\n",
                "\n",
                "from sklearn.feature_extraction.text import CountVectorizer\n",
                "from sklearn.model_selection import train_test_split\n",
                "from sklearn.naive_bayes import MultinomialNB\n",
                "\n",
                "from sklearn import model_selection, svm\n",
                "from sklearn.metrics import classification_report, accuracy_score\n",
                "from nltk.corpus import stopwords"
            ]
        },
        {
            "cell_type": "code",
            "execution_count": 3,
            "metadata": {},
            "outputs": [],
            "source": [
                "df_raw = pd.read_csv('https://raw.githubusercontent.com/4GeeksAcademy/NLP-project-tutorial/main/url_spam.csv')"
            ]
        },
        {
            "cell_type": "code",
            "execution_count": 4,
            "metadata": {},
            "outputs": [
                {
                    "data": {
                        "text/plain": [
                            "<bound method DataFrame.info of                                                     url  is_spam\n",
                            "0     https://briefingday.us8.list-manage.com/unsubs...     True\n",
                            "1                                https://www.hvper.com/     True\n",
                            "2                    https://briefingday.com/m/v4n3i4f3     True\n",
                            "3      https://briefingday.com/n/20200618/m#commentform    False\n",
                            "4                           https://briefingday.com/fan     True\n",
                            "...                                                 ...      ...\n",
                            "2994  https://www.smartcitiesworld.net/news/news/dee...    False\n",
                            "2995                      https://www.youtube.com/watch     True\n",
                            "2996  https://techcrunch.com/2019/07/04/an-optimisti...    False\n",
                            "2997  https://www.technologyreview.com/2019/12/20/13...    False\n",
                            "2998       https://www.bbc.com/news/technology-51018758    False\n",
                            "\n",
                            "[2999 rows x 2 columns]>"
                        ]
                    },
                    "execution_count": 4,
                    "metadata": {},
                    "output_type": "execute_result"
                }
            ],
            "source": [
                "df_raw.info"
            ]
        },
        {
            "cell_type": "code",
            "execution_count": 5,
            "metadata": {},
            "outputs": [],
            "source": [
                "#Vamos a pasar a 0 y 1 la variable objetivo\n",
                "\n",
                "df_raw['is_spam'] = df_raw['is_spam'].apply(lambda x: 1 if x == True else 0)"
            ]
        },
        {
            "cell_type": "code",
            "execution_count": 6,
            "metadata": {},
            "outputs": [
                {
                    "data": {
                        "text/plain": [
                            "<bound method DataFrame.info of                                                     url  is_spam\n",
                            "0     https://briefingday.us8.list-manage.com/unsubs...        1\n",
                            "1                                https://www.hvper.com/        1\n",
                            "2                    https://briefingday.com/m/v4n3i4f3        1\n",
                            "3      https://briefingday.com/n/20200618/m#commentform        0\n",
                            "4                           https://briefingday.com/fan        1\n",
                            "...                                                 ...      ...\n",
                            "2994  https://www.smartcitiesworld.net/news/news/dee...        0\n",
                            "2995                      https://www.youtube.com/watch        1\n",
                            "2996  https://techcrunch.com/2019/07/04/an-optimisti...        0\n",
                            "2997  https://www.technologyreview.com/2019/12/20/13...        0\n",
                            "2998       https://www.bbc.com/news/technology-51018758        0\n",
                            "\n",
                            "[2999 rows x 2 columns]>"
                        ]
                    },
                    "execution_count": 6,
                    "metadata": {},
                    "output_type": "execute_result"
                }
            ],
            "source": [
                "df_raw.info"
            ]
        },
        {
            "cell_type": "code",
            "execution_count": 7,
            "metadata": {},
            "outputs": [
                {
                    "data": {
                        "text/plain": [
                            "1860    https://www.npr.org/sections/live-updates-prot...\n",
                            "57      https://www.supremecourt.gov/opinions/19pdf/18...\n",
                            "2062     https://bigspaceship.us9.list-manage.com/profile\n",
                            "2692    https://www.vanityfair.com/hollywood/2020/06/t...\n",
                            "1231    https://search.itunes.apple.com/WebObjects/MZC...\n",
                            "2959    https://melmagazine.com/en-us/story/who-is-o-m...\n",
                            "843     https://www.reuters.com/article/us-serbia-russ...\n",
                            "463      https://lovevery.com/pages/the-play-kits-program\n",
                            "101            https://www.morningbrew.com/emerging-tech/\n",
                            "1000     https://briefingday.com/n/20200625/m#commentform\n",
                            "1252    https://digg.com/2020/best-memes-trump-walk-of...\n",
                            "2354                                    https://fat.gold/\n",
                            "2899             https://wtf.us10.list-manage.com/profile\n",
                            "1687                               https://www.hvper.com/\n",
                            "1704    https://www.marketwatch.com/story/7-reasons-th...\n",
                            "205       https://en.wikipedia.org/wiki/Culinary_triangle\n",
                            "2493    https://www.youtube.com/watch?v=TrIqmz5MRQs&fe...\n",
                            "1538    https://briefingday.us8.list-manage.com/unsubs...\n",
                            "869                https://www.theskimm.com/invite/v2/new\n",
                            "2607    https://apnews.com/913a8b436da14c07610acbffb18...\n",
                            "Name: url, dtype: object"
                        ]
                    },
                    "execution_count": 7,
                    "metadata": {},
                    "output_type": "execute_result"
                }
            ],
            "source": [
                "df_raw['url'].sample(20)"
            ]
        },
        {
            "cell_type": "code",
            "execution_count": 8,
            "metadata": {},
            "outputs": [
                {
                    "data": {
                        "text/plain": [
                            "0    2303\n",
                            "1     696\n",
                            "Name: is_spam, dtype: int64"
                        ]
                    },
                    "execution_count": 8,
                    "metadata": {},
                    "output_type": "execute_result"
                }
            ],
            "source": [
                "df_raw['is_spam'].value_counts()"
            ]
        },
        {
            "cell_type": "code",
            "execution_count": 10,
            "metadata": {},
            "outputs": [
                {
                    "name": "stdout",
                    "output_type": "stream",
                    "text": [
                        "Hay spam:  696\n",
                        "No son spam :  2303\n",
                        "(2999, 2)\n"
                    ]
                }
            ],
            "source": [
                "# Vamos a ver como esta nuestra variable objetivo en este caso es is_spam\n",
                "df_raw['is_spam'].value_counts()\n",
                "print(\"Hay spam: \",len(df_raw.loc[df_raw.is_spam==1]))\n",
                "print(\"No son spam : \",len(df_raw.loc[df_raw.is_spam==0]))\n",
                "print(df_raw.shape)"
            ]
        },
        {
            "cell_type": "code",
            "execution_count": 11,
            "metadata": {},
            "outputs": [
                {
                    "data": {
                        "text/plain": [
                            "(2369, 2)"
                        ]
                    },
                    "execution_count": 11,
                    "metadata": {},
                    "output_type": "execute_result"
                }
            ],
            "source": [
                "# Eliminar los duplicados\n",
                "\n",
                "df_raw = df_raw.drop_duplicates()\n",
                "df_raw = df_raw.reset_index(inplace = False)[['url','is_spam']]\n",
                "df_raw.shape"
            ]
        },
        {
            "cell_type": "code",
            "execution_count": 12,
            "metadata": {},
            "outputs": [],
            "source": [
                "df_raw['url'] = df_raw['url'].str.lower()"
            ]
        },
        {
            "cell_type": "code",
            "execution_count": null,
            "metadata": {},
            "outputs": [],
            "source": [
                "nltk.download('stopwords')\n",
                "nltk.download('punkt')\n",
                "\n",
                "stopwords = nltk.corpus.stopwords.words('english')\n",
                "punctuation = string.punctuation\n",
                "\n",
                "print(stopwords[:5])\n",
                "print(punctuation)"
            ]
        },
        {
            "cell_type": "code",
            "execution_count": null,
            "metadata": {},
            "outputs": [],
            "source": [
                "df_aux = df_raw.copy()"
            ]
        },
        {
            "cell_type": "code",
            "execution_count": null,
            "metadata": {},
            "outputs": [],
            "source": [
                "# Proceso de limpieza de datos\n",
                "\n",
                "limpieza = []\n",
                "\n",
                "for p in range(len(df_aux.url)):\n",
                "    desc = df_aux['url'][p]\n",
                "    \n",
                "    #savar la puntuacion\n",
                "    desc = re.sub('[^a-zA-Z]', ' ', desc)\n",
                "    \n",
                "    #borrar etiquetas especiales\n",
                "    desc=re.sub(\"&lt;/?.*?&gt;\",\" &lt;&gt; \",desc)\n",
                "    \n",
                "    #borrar digitos y caracteres especiales\n",
                "    desc=re.sub(\"(\\\\d|\\\\W)+\",\" \",desc)\n",
                "    \n",
                "    limpieza.append(desc)\n",
                "\n",
                "#assign the cleaned descriptions to the data frame\n",
                "df_aux['url'] = limpieza\n",
                "        \n",
                "df_aux.head()"
            ]
        },
        {
            "cell_type": "code",
            "execution_count": null,
            "metadata": {},
            "outputs": [],
            "source": [
                "\n",
                "df_aux['url'].str.split(expand=True).stack().value_counts()[:60]"
            ]
        },
        {
            "cell_type": "code",
            "execution_count": null,
            "metadata": {},
            "outputs": [],
            "source": [
                "\n",
                "# Creamos una lista de stopwords\n",
                "stop_words = ['http','www','com','you','your','for','not','have','is','in','im','from','to','https','e','c','v','b','f','p']"
            ]
        },
        {
            "cell_type": "code",
            "execution_count": null,
            "metadata": {},
            "outputs": [],
            "source": [
                "def remove_stopwords(message):\n",
                "  if message is not None:\n",
                "    words = message.strip().split()\n",
                "    words_filtered = []\n",
                "    for word in words:\n",
                "      if word not in stop_words:\n",
                "        words_filtered.append(word) \n",
                "    result = \" \".join(words_filtered)         \n",
                "  else:\n",
                "    result = None\n",
                "\n",
                "  return result "
            ]
        },
        {
            "cell_type": "code",
            "execution_count": null,
            "metadata": {},
            "outputs": [],
            "source": [
                "df_aux['url']=df_aux['url'].apply(remove_stopwords)"
            ]
        },
        {
            "cell_type": "code",
            "execution_count": null,
            "metadata": {},
            "outputs": [],
            "source": [
                "df_aux.sample(10)"
            ]
        },
        {
            "cell_type": "code",
            "execution_count": null,
            "metadata": {},
            "outputs": [],
            "source": [
                "df_aux['url'].str.split(expand=True).stack().value_counts()[:60]"
            ]
        },
        {
            "cell_type": "code",
            "execution_count": null,
            "metadata": {},
            "outputs": [],
            "source": [
                "# Ahora que hemos limpiado nuestros datos\n",
                "# procedemos a hacer una copia con el dataset a trabajar en el final\n",
                "df = df_aux.copy()"
            ]
        },
        {
            "cell_type": "code",
            "execution_count": null,
            "metadata": {},
            "outputs": [],
            "source": [
                "X = df['url']\n",
                "y = df['is_spam']\n",
                "X_train, X_test, y_train, y_test = train_test_split(X,y,stratify=y,random_state=121)"
            ]
        },
        {
            "cell_type": "code",
            "execution_count": null,
            "metadata": {},
            "outputs": [],
            "source": [
                "# Vectorizador\n",
                "vec = CountVectorizer(stop_words='english')\n",
                "X_train = vec.fit_transform(X_train).toarray()\n",
                "X_test = vec.transform(X_test).toarray()"
            ]
        },
        {
            "cell_type": "code",
            "execution_count": null,
            "metadata": {},
            "outputs": [],
            "source": [
                "print(X_train)"
            ]
        },
        {
            "cell_type": "code",
            "execution_count": null,
            "metadata": {},
            "outputs": [],
            "source": [
                "X_train.shape"
            ]
        },
        {
            "cell_type": "code",
            "execution_count": null,
            "metadata": {},
            "outputs": [],
            "source": [
                "X_test.shape"
            ]
        },
        {
            "cell_type": "code",
            "execution_count": null,
            "metadata": {},
            "outputs": [],
            "source": [
                "\n",
                "print(vec.get_feature_names_out())"
            ]
        },
        {
            "cell_type": "code",
            "execution_count": null,
            "metadata": {},
            "outputs": [],
            "source": [
                "nb = MultinomialNB()"
            ]
        },
        {
            "cell_type": "code",
            "execution_count": null,
            "metadata": {},
            "outputs": [],
            "source": [
                "nb.fit(X_train, y_train)"
            ]
        },
        {
            "cell_type": "code",
            "execution_count": null,
            "metadata": {},
            "outputs": [],
            "source": [
                "nb.score(X_train,y_train)"
            ]
        },
        {
            "cell_type": "code",
            "execution_count": null,
            "metadata": {},
            "outputs": [],
            "source": [
                "\n",
                "nb.score(X_test,y_test)"
            ]
        },
        {
            "cell_type": "code",
            "execution_count": null,
            "metadata": {},
            "outputs": [],
            "source": [
                "\n",
                "predictions = nb.predict(X_test)\n",
                "print(classification_report(y_test, predictions))"
            ]
        },
        {
            "cell_type": "code",
            "execution_count": null,
            "metadata": {},
            "outputs": [],
            "source": [
                "#Creando la Matriz\n",
                "\n",
                "message_vectorizer = CountVectorizer().fit_transform(df['url'])\n",
                "\n",
                "# Haciendo el split de los datos\n",
                "\n",
                "X_train, X_test, y_train, y_test = train_test_split(message_vectorizer, df['is_spam'], test_size = 0.40, random_state = 121, shuffle = True)"
            ]
        },
        {
            "cell_type": "code",
            "execution_count": null,
            "metadata": {},
            "outputs": [],
            "source": [
                "cl = svm.SVC(C=1.0, kernel='linear', degree=4, gamma='auto')"
            ]
        },
        {
            "cell_type": "code",
            "execution_count": null,
            "metadata": {},
            "outputs": [],
            "source": [
                "cl.fit(X_train, y_train)\n",
                "pred = cl.predict(X_test)\n",
                "print(classification_report(y_test, pred))"
            ]
        },
        {
            "cell_type": "code",
            "execution_count": null,
            "metadata": {},
            "outputs": [],
            "source": [
                "pickle.dump(cl, open('../models/texto_NLP.pkl', 'wb'))"
            ]
        },
        {
            "cell_type": "code",
            "execution_count": null,
            "metadata": {},
            "outputs": [],
            "source": [
                "# Si queremos cargar el archivo guardado en la carpeta models\n",
                "\n",
                "load_model = pickle.load(open('../models/texto_NLP.pkl', 'rb'))"
            ]
        },
        {
            "cell_type": "code",
            "execution_count": null,
            "metadata": {},
            "outputs": [],
            "source": [
                "load_model"
            ]
        }
    ],
    "metadata": {
        "kernelspec": {
            "display_name": "Python 3.8.13 64-bit ('3.8.13')",
            "language": "python",
            "name": "python3"
        },
        "language_info": {
            "codemirror_mode": {
                "name": "ipython",
                "version": 3
            },
            "file_extension": ".py",
            "mimetype": "text/x-python",
            "name": "python",
            "nbconvert_exporter": "python",
            "pygments_lexer": "ipython3",
            "version": "3.8.13"
        },
        "orig_nbformat": 4,
        "vscode": {
            "interpreter": {
                "hash": "110cc1dee26208153f2972f08a2ad52b6a56238dc66d48e87fb757ef2996db56"
            }
        }
    },
    "nbformat": 4,
    "nbformat_minor": 2
}

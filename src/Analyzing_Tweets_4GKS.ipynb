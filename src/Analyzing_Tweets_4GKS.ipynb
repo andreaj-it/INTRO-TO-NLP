{
 "cells": [
  {
   "cell_type": "code",
   "execution_count": 2,
   "metadata": {},
   "outputs": [],
   "source": [
    "# Step 0. Load libraries and custom modules\n",
    "# Dataframes and matrices ----------------------------------------------\n",
    "import pandas as pd\n",
    "import numpy as np\n",
    "# Graphics -------------------------------------------------------------\n",
    "import matplotlib.pyplot as plt\n",
    "import seaborn as sns\n",
    "from matplotlib import style\n",
    "plt.style.use('tableau-colorblind10')\n",
    "# Mathematical functions -----------------------------------------------\n",
    "from scipy.stats import norm\n",
    "# Text processors ------------------------------------------------------\n",
    "import unicodedata\n",
    "import re\n",
    "import nltk\n",
    "from nltk.corpus import stopwords\n",
    "from nltk.tokenize import word_tokenize\n",
    "from wordcloud import WordCloud\n",
    "# Preprocessing --------------------------------------------------------\n",
    "from sklearn.model_selection import train_test_split\n",
    "from sklearn.pipeline import Pipeline\n",
    "from sklearn.compose import ColumnTransformer\n",
    "# Text modeling --------------------------------------------------------\n",
    "from sklearn.feature_extraction.text import CountVectorizer\n",
    "from sklearn.feature_extraction.text import TfidfVectorizer\n",
    "# Model creating -------------------------------------------------------\n",
    "from sklearn.naive_bayes import GaussianNB\n",
    "from sklearn.naive_bayes import MultinomialNB\n",
    "# Metrics --------------------------------------------------------------\n",
    "from sklearn.metrics import accuracy_score\n",
    "from sklearn.metrics import classification_report\n",
    "from sklearn.metrics import confusion_matrix\n",
    "from sklearn.metrics import plot_roc_curve\n",
    "from sklearn.metrics import ConfusionMatrixDisplay\n",
    "from sklearn.metrics import make_scorer\n",
    "# Custom functions -----------------------------------------------------\n",
    "from text_preprocessing import clean_stopwords "
   ]
  },
  {
   "cell_type": "code",
   "execution_count": 6,
   "metadata": {},
   "outputs": [],
   "source": [
    "# We'll use a collection of sentiments for text analysis as a dataset\n",
    "# This dataset was published in Saif M. Mohammad and Peter Turney. (2013), \n",
    "# ``Crowdsourcing a Word-Emotion Association Lexicon.'' \n",
    "# Computational Intelligence, 29(3): 436-465.\n",
    "# It's only for research and educational purposes.\n",
    "# URL: http://saifmohammad.com/WebPages/lexicons.html  \n",
    "nrc = pd.read_csv('../data/raw/NRC.csv', names=['word','sentiment','polarity'])\n",
    "nrc = nrc.query('polarity == 1')"
   ]
  },
  {
   "cell_type": "code",
   "execution_count": 7,
   "metadata": {},
   "outputs": [
    {
     "data": {
      "text/html": [
       "<div>\n",
       "<style scoped>\n",
       "    .dataframe tbody tr th:only-of-type {\n",
       "        vertical-align: middle;\n",
       "    }\n",
       "\n",
       "    .dataframe tbody tr th {\n",
       "        vertical-align: top;\n",
       "    }\n",
       "\n",
       "    .dataframe thead th {\n",
       "        text-align: right;\n",
       "    }\n",
       "</style>\n",
       "<table border=\"1\" class=\"dataframe\">\n",
       "  <thead>\n",
       "    <tr style=\"text-align: right;\">\n",
       "      <th></th>\n",
       "      <th>word</th>\n",
       "      <th>sentiment</th>\n",
       "      <th>polarity</th>\n",
       "    </tr>\n",
       "  </thead>\n",
       "  <tbody>\n",
       "    <tr>\n",
       "      <th>19</th>\n",
       "      <td>abacus</td>\n",
       "      <td>trust</td>\n",
       "      <td>1</td>\n",
       "    </tr>\n",
       "    <tr>\n",
       "      <th>23</th>\n",
       "      <td>abandon</td>\n",
       "      <td>fear</td>\n",
       "      <td>1</td>\n",
       "    </tr>\n",
       "    <tr>\n",
       "      <th>25</th>\n",
       "      <td>abandon</td>\n",
       "      <td>negative</td>\n",
       "      <td>1</td>\n",
       "    </tr>\n",
       "    <tr>\n",
       "      <th>27</th>\n",
       "      <td>abandon</td>\n",
       "      <td>sadness</td>\n",
       "      <td>1</td>\n",
       "    </tr>\n",
       "    <tr>\n",
       "      <th>30</th>\n",
       "      <td>abandoned</td>\n",
       "      <td>anger</td>\n",
       "      <td>1</td>\n",
       "    </tr>\n",
       "    <tr>\n",
       "      <th>...</th>\n",
       "      <td>...</td>\n",
       "      <td>...</td>\n",
       "      <td>...</td>\n",
       "    </tr>\n",
       "    <tr>\n",
       "      <th>141461</th>\n",
       "      <td>zest</td>\n",
       "      <td>anticipation</td>\n",
       "      <td>1</td>\n",
       "    </tr>\n",
       "    <tr>\n",
       "      <th>141464</th>\n",
       "      <td>zest</td>\n",
       "      <td>joy</td>\n",
       "      <td>1</td>\n",
       "    </tr>\n",
       "    <tr>\n",
       "      <th>141466</th>\n",
       "      <td>zest</td>\n",
       "      <td>positive</td>\n",
       "      <td>1</td>\n",
       "    </tr>\n",
       "    <tr>\n",
       "      <th>141469</th>\n",
       "      <td>zest</td>\n",
       "      <td>trust</td>\n",
       "      <td>1</td>\n",
       "    </tr>\n",
       "    <tr>\n",
       "      <th>141475</th>\n",
       "      <td>zip</td>\n",
       "      <td>negative</td>\n",
       "      <td>1</td>\n",
       "    </tr>\n",
       "  </tbody>\n",
       "</table>\n",
       "<p>13872 rows × 3 columns</p>\n",
       "</div>"
      ],
      "text/plain": [
       "             word     sentiment  polarity\n",
       "19         abacus         trust         1\n",
       "23        abandon          fear         1\n",
       "25        abandon      negative         1\n",
       "27        abandon       sadness         1\n",
       "30      abandoned         anger         1\n",
       "...           ...           ...       ...\n",
       "141461       zest  anticipation         1\n",
       "141464       zest           joy         1\n",
       "141466       zest      positive         1\n",
       "141469       zest         trust         1\n",
       "141475        zip      negative         1\n",
       "\n",
       "[13872 rows x 3 columns]"
      ]
     },
     "execution_count": 7,
     "metadata": {},
     "output_type": "execute_result"
    }
   ],
   "source": [
    "nrc"
   ]
  },
  {
   "cell_type": "code",
   "execution_count": 4,
   "metadata": {},
   "outputs": [
    {
     "name": "stdout",
     "output_type": "stream",
     "text": [
      "<class 'pandas.core.frame.DataFrame'>\n",
      "RangeIndex: 20761 entries, 0 to 20760\n",
      "Data columns (total 8 columns):\n",
      " #   Column                   Non-Null Count  Dtype  \n",
      "---  ------                   --------------  -----  \n",
      " 0   source                   20761 non-null  object \n",
      " 1   id_str                   20761 non-null  int64  \n",
      " 2   text                     20761 non-null  object \n",
      " 3   created_at               20761 non-null  object \n",
      " 4   retweet_count            20761 non-null  int64  \n",
      " 5   in_reply_to_user_id_str  2442 non-null   float64\n",
      " 6   favorite_count           20761 non-null  int64  \n",
      " 7   is_retweet               20761 non-null  bool   \n",
      "dtypes: bool(1), float64(1), int64(3), object(3)\n",
      "memory usage: 1.1+ MB\n"
     ]
    }
   ],
   "source": [
    "# Step 1. Load the data\n",
    "# Data extracted from https://www.thetrumparchive.com\n",
    "# Data case: During the 2016 US presidential election, the candidate \n",
    "# Donald Trump used twitter to communicate with potential voters. \n",
    "# The campaign was during 2015-06-17 and 2016-11-08\n",
    "# We'll try to analyze these campaign tweets from iPhone and Android\n",
    "# Data description\n",
    "# source -> device of origin\n",
    "# id_str -> unique identifier\n",
    "# text -> tweet text content\n",
    "# created_at -> Date of creation, not including timezone\n",
    "# retweet_count -> Count of retweets (difusion)\n",
    "# in_reply_to_usr_id_str -> If it's a reply, grab the user id\n",
    "# favourite_count -> Count of users that liked the tweet\n",
    "# is_retweet -> If the post is a retweet  \n",
    "# 1.1 Open data and get a glimpse\n",
    "df_raw = pd.read_csv('../data/raw/trump_tweets.csv')\n",
    "df_raw.info()"
   ]
  },
  {
   "cell_type": "code",
   "execution_count": 5,
   "metadata": {},
   "outputs": [
    {
     "data": {
      "text/html": [
       "<div>\n",
       "<style scoped>\n",
       "    .dataframe tbody tr th:only-of-type {\n",
       "        vertical-align: middle;\n",
       "    }\n",
       "\n",
       "    .dataframe tbody tr th {\n",
       "        vertical-align: top;\n",
       "    }\n",
       "\n",
       "    .dataframe thead th {\n",
       "        text-align: right;\n",
       "    }\n",
       "</style>\n",
       "<table border=\"1\" class=\"dataframe\">\n",
       "  <thead>\n",
       "    <tr style=\"text-align: right;\">\n",
       "      <th></th>\n",
       "      <th>source</th>\n",
       "      <th>id_str</th>\n",
       "      <th>text</th>\n",
       "      <th>created_at</th>\n",
       "      <th>retweet_count</th>\n",
       "      <th>in_reply_to_user_id_str</th>\n",
       "      <th>favorite_count</th>\n",
       "      <th>is_retweet</th>\n",
       "    </tr>\n",
       "  </thead>\n",
       "  <tbody>\n",
       "    <tr>\n",
       "      <th>12471</th>\n",
       "      <td>Twitter for iPhone</td>\n",
       "      <td>671330229596659712</td>\n",
       "      <td>How is Chris Christie running the state of NJ,...</td>\n",
       "      <td>2015-11-30T14:09:34Z</td>\n",
       "      <td>3298</td>\n",
       "      <td>NaN</td>\n",
       "      <td>4655</td>\n",
       "      <td>False</td>\n",
       "    </tr>\n",
       "    <tr>\n",
       "      <th>13260</th>\n",
       "      <td>Twitter for Android</td>\n",
       "      <td>640133656393195520</td>\n",
       "      <td>The Dallas event in two weeks, at the American...</td>\n",
       "      <td>2015-09-05T12:05:31Z</td>\n",
       "      <td>1579</td>\n",
       "      <td>NaN</td>\n",
       "      <td>1845</td>\n",
       "      <td>False</td>\n",
       "    </tr>\n",
       "    <tr>\n",
       "      <th>2881</th>\n",
       "      <td>Twitter Web Client</td>\n",
       "      <td>233915014099132416</td>\n",
       "      <td>All recent Presidents have released their tran...</td>\n",
       "      <td>2012-08-10T13:17:39Z</td>\n",
       "      <td>328</td>\n",
       "      <td>NaN</td>\n",
       "      <td>52</td>\n",
       "      <td>False</td>\n",
       "    </tr>\n",
       "    <tr>\n",
       "      <th>9104</th>\n",
       "      <td>Twitter Web Client</td>\n",
       "      <td>296715825891659776</td>\n",
       "      <td>Oh the wonders of the Arab Spring. Our new all...</td>\n",
       "      <td>2013-01-30T20:25:40Z</td>\n",
       "      <td>237</td>\n",
       "      <td>NaN</td>\n",
       "      <td>52</td>\n",
       "      <td>False</td>\n",
       "    </tr>\n",
       "    <tr>\n",
       "      <th>7885</th>\n",
       "      <td>Twitter Web Client</td>\n",
       "      <td>313735229430964227</td>\n",
       "      <td>Vattenfall CEO stated that the company needed ...</td>\n",
       "      <td>2013-03-18T19:34:42Z</td>\n",
       "      <td>17</td>\n",
       "      <td>NaN</td>\n",
       "      <td>4</td>\n",
       "      <td>False</td>\n",
       "    </tr>\n",
       "    <tr>\n",
       "      <th>8672</th>\n",
       "      <td>Twitter Web Client</td>\n",
       "      <td>302063403407650817</td>\n",
       "      <td>It is important to think positively. Negative ...</td>\n",
       "      <td>2013-02-14T14:35:02Z</td>\n",
       "      <td>1376</td>\n",
       "      <td>NaN</td>\n",
       "      <td>564</td>\n",
       "      <td>False</td>\n",
       "    </tr>\n",
       "    <tr>\n",
       "      <th>15223</th>\n",
       "      <td>Twitter for Android</td>\n",
       "      <td>803434300846862336</td>\n",
       "      <td>.@CNN is so embarrassed by their total  (100%)...</td>\n",
       "      <td>2016-11-29T03:03:59Z</td>\n",
       "      <td>25140</td>\n",
       "      <td>NaN</td>\n",
       "      <td>91706</td>\n",
       "      <td>False</td>\n",
       "    </tr>\n",
       "    <tr>\n",
       "      <th>6430</th>\n",
       "      <td>Twitter Web Client</td>\n",
       "      <td>344822631507324930</td>\n",
       "      <td>@scottymcd1980   A round of golf compliments o...</td>\n",
       "      <td>2013-06-12T14:24:56Z</td>\n",
       "      <td>7</td>\n",
       "      <td>234946101.0</td>\n",
       "      <td>11</td>\n",
       "      <td>False</td>\n",
       "    </tr>\n",
       "    <tr>\n",
       "      <th>7755</th>\n",
       "      <td>Twitter Web Client</td>\n",
       "      <td>314771578850275329</td>\n",
       "      <td>Remember the golden rule of negotiating: He wh...</td>\n",
       "      <td>2013-03-21T16:12:47Z</td>\n",
       "      <td>715</td>\n",
       "      <td>NaN</td>\n",
       "      <td>325</td>\n",
       "      <td>False</td>\n",
       "    </tr>\n",
       "    <tr>\n",
       "      <th>5283</th>\n",
       "      <td>Twitter for Android</td>\n",
       "      <td>376482993353019392</td>\n",
       "      <td>@dexterpugh   Great looking couple-good to hav...</td>\n",
       "      <td>2013-09-07T23:11:54Z</td>\n",
       "      <td>0</td>\n",
       "      <td>392081766.0</td>\n",
       "      <td>1</td>\n",
       "      <td>False</td>\n",
       "    </tr>\n",
       "  </tbody>\n",
       "</table>\n",
       "</div>"
      ],
      "text/plain": [
       "                    source              id_str  \\\n",
       "12471   Twitter for iPhone  671330229596659712   \n",
       "13260  Twitter for Android  640133656393195520   \n",
       "2881    Twitter Web Client  233915014099132416   \n",
       "9104    Twitter Web Client  296715825891659776   \n",
       "7885    Twitter Web Client  313735229430964227   \n",
       "8672    Twitter Web Client  302063403407650817   \n",
       "15223  Twitter for Android  803434300846862336   \n",
       "6430    Twitter Web Client  344822631507324930   \n",
       "7755    Twitter Web Client  314771578850275329   \n",
       "5283   Twitter for Android  376482993353019392   \n",
       "\n",
       "                                                    text  \\\n",
       "12471  How is Chris Christie running the state of NJ,...   \n",
       "13260  The Dallas event in two weeks, at the American...   \n",
       "2881   All recent Presidents have released their tran...   \n",
       "9104   Oh the wonders of the Arab Spring. Our new all...   \n",
       "7885   Vattenfall CEO stated that the company needed ...   \n",
       "8672   It is important to think positively. Negative ...   \n",
       "15223  .@CNN is so embarrassed by their total  (100%)...   \n",
       "6430   @scottymcd1980   A round of golf compliments o...   \n",
       "7755   Remember the golden rule of negotiating: He wh...   \n",
       "5283   @dexterpugh   Great looking couple-good to hav...   \n",
       "\n",
       "                 created_at  retweet_count  in_reply_to_user_id_str  \\\n",
       "12471  2015-11-30T14:09:34Z           3298                      NaN   \n",
       "13260  2015-09-05T12:05:31Z           1579                      NaN   \n",
       "2881   2012-08-10T13:17:39Z            328                      NaN   \n",
       "9104   2013-01-30T20:25:40Z            237                      NaN   \n",
       "7885   2013-03-18T19:34:42Z             17                      NaN   \n",
       "8672   2013-02-14T14:35:02Z           1376                      NaN   \n",
       "15223  2016-11-29T03:03:59Z          25140                      NaN   \n",
       "6430   2013-06-12T14:24:56Z              7              234946101.0   \n",
       "7755   2013-03-21T16:12:47Z            715                      NaN   \n",
       "5283   2013-09-07T23:11:54Z              0              392081766.0   \n",
       "\n",
       "       favorite_count  is_retweet  \n",
       "12471            4655       False  \n",
       "13260            1845       False  \n",
       "2881               52       False  \n",
       "9104               52       False  \n",
       "7885                4       False  \n",
       "8672              564       False  \n",
       "15223           91706       False  \n",
       "6430               11       False  \n",
       "7755              325       False  \n",
       "5283                1       False  "
      ]
     },
     "execution_count": 5,
     "metadata": {},
     "output_type": "execute_result"
    }
   ],
   "source": [
    "# 1.1 Sample some observations\n",
    "df_raw.sample(10)"
   ]
  },
  {
   "cell_type": "code",
   "execution_count": null,
   "metadata": {},
   "outputs": [],
   "source": [
    "# Step 2. Transform and wrangle the data\n",
    "# 2.1 Make a copy\n",
    "df_interim = df_raw.copy()"
   ]
  },
  {
   "cell_type": "code",
   "execution_count": null,
   "metadata": {},
   "outputs": [],
   "source": [
    "# 2.2 Get rid of uninformative columns\n",
    "df_interim = df_interim.drop(['id_str','is_retweet','in_reply_to_user_id_str'], axis=1)"
   ]
  },
  {
   "cell_type": "code",
   "execution_count": null,
   "metadata": {},
   "outputs": [],
   "source": [
    "# 2.3 Convert columns to the right format\n",
    "df_interim['created_at'] = df_interim['created_at'].astype('datetime64')\n",
    "df_interim['source'] = pd.Categorical(df_interim['source'])"
   ]
  },
  {
   "cell_type": "code",
   "execution_count": null,
   "metadata": {},
   "outputs": [],
   "source": [
    "# 2.4 Filter dates for analysis\n",
    "df_interim = df_interim.loc[(df_interim['created_at'] >= '2015-06-17') \\\n",
    "    & (df_interim['created_at'] <= '2016-11-08')]"
   ]
  },
  {
   "cell_type": "code",
   "execution_count": null,
   "metadata": {},
   "outputs": [],
   "source": [
    "# 2.5 Consider time is UTC, convert to EST\n"
   ]
  },
  {
   "cell_type": "code",
   "execution_count": null,
   "metadata": {},
   "outputs": [],
   "source": [
    "# 2.5 Filter source for analysis\n",
    "df_interim = df_interim.loc[(df_interim['source'].str.contains('iPhone')) \\\n",
    "    | (df_interim['source'].str.contains('Android'))]\n",
    "df_interim['source'] = df_interim['source'].cat.remove_unused_categories()"
   ]
  },
  {
   "cell_type": "code",
   "execution_count": null,
   "metadata": {},
   "outputs": [],
   "source": [
    "# 2.5 Save and create a copy for analysis\n",
    "df_interim.to_csv('data/interim/trump_tweets.csv', index=False)\n",
    "df = df_interim.copy()"
   ]
  },
  {
   "cell_type": "code",
   "execution_count": null,
   "metadata": {},
   "outputs": [],
   "source": [
    "# Step 3. Perform EDA\n",
    "# 3.1 Get basic info\n",
    "df.info()"
   ]
  },
  {
   "cell_type": "code",
   "execution_count": null,
   "metadata": {},
   "outputs": [],
   "source": [
    "# 3.2 Get a sample\n",
    "df.sample(10)"
   ]
  },
  {
   "cell_type": "code",
   "execution_count": null,
   "metadata": {},
   "outputs": [],
   "source": [
    "# 3.3 Describe numerical and datetime data\n",
    "df.describe(datetime_is_numeric=True)"
   ]
  },
  {
   "cell_type": "code",
   "execution_count": null,
   "metadata": {},
   "outputs": [],
   "source": [
    "# 3.4 Describe categorical data\n",
    "df['source'].value_counts()"
   ]
  },
  {
   "cell_type": "code",
   "execution_count": null,
   "metadata": {},
   "outputs": [],
   "source": [
    "# 3.5 Get histograms for numerical data"
   ]
  },
  {
   "cell_type": "code",
   "execution_count": null,
   "metadata": {},
   "outputs": [],
   "source": [
    "# 3.6 Make a plot of tweets frequence rate by source"
   ]
  },
  {
   "cell_type": "code",
   "execution_count": null,
   "metadata": {},
   "outputs": [],
   "source": [
    "# 3.7 Get a glimpse of the most retweeted tweets"
   ]
  },
  {
   "cell_type": "code",
   "execution_count": null,
   "metadata": {},
   "outputs": [],
   "source": [
    "# 3.8 Get a glimpse of the most liked tweets"
   ]
  },
  {
   "cell_type": "code",
   "execution_count": null,
   "metadata": {},
   "outputs": [],
   "source": [
    "# 3.9 Let's get a glimpse of common words in the tweets' text"
   ]
  },
  {
   "cell_type": "code",
   "execution_count": null,
   "metadata": {},
   "outputs": [],
   "source": [
    "# 3.10 Process text to extract stopwords"
   ]
  },
  {
   "cell_type": "code",
   "execution_count": null,
   "metadata": {},
   "outputs": [],
   "source": [
    "# 3.11 Extract urls\n",
    "url_pat = 'https://t.co/[A-Za-z\\d]+|&amp;'\n"
   ]
  },
  {
   "cell_type": "code",
   "execution_count": null,
   "metadata": {},
   "outputs": [],
   "source": [
    "# 3.12 Extract special characters\n"
   ]
  },
  {
   "cell_type": "code",
   "execution_count": null,
   "metadata": {},
   "outputs": [],
   "source": [
    "# 3.13 Extract numbers\n"
   ]
  },
  {
   "cell_type": "code",
   "execution_count": null,
   "metadata": {},
   "outputs": [],
   "source": [
    "# 3.14 See the results\n"
   ]
  },
  {
   "cell_type": "code",
   "execution_count": null,
   "metadata": {},
   "outputs": [],
   "source": [
    "# 3.15 Let's see a wordcloud\n"
   ]
  }
 ],
 "metadata": {
  "kernelspec": {
   "display_name": "Python 3.8.13 64-bit ('3.8.13')",
   "language": "python",
   "name": "python3"
  },
  "language_info": {
   "codemirror_mode": {
    "name": "ipython",
    "version": 3
   },
   "file_extension": ".py",
   "mimetype": "text/x-python",
   "name": "python",
   "nbconvert_exporter": "python",
   "pygments_lexer": "ipython3",
   "version": "3.8.13"
  },
  "orig_nbformat": 4,
  "vscode": {
   "interpreter": {
    "hash": "110cc1dee26208153f2972f08a2ad52b6a56238dc66d48e87fb757ef2996db56"
   }
  }
 },
 "nbformat": 4,
 "nbformat_minor": 2
}

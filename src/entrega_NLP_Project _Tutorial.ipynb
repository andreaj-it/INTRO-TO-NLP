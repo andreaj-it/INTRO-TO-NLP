{
    "cells": [
        {
            "cell_type": "markdown",
            "metadata": {},
            "source": [
                "In our last exploring NLP notebook we built an email spam detector using Natural Language Processing techniques and the Support Vector Machine (SVM) algorithm for classification.\n",
                "In this project, we will again build a spam detector but this time using URLs instead of emails."
            ]
        },
        {
            "cell_type": "code",
            "execution_count": 4,
            "metadata": {},
            "outputs": [
                {
                    "name": "stderr",
                    "output_type": "stream",
                    "text": [
                        "[nltk_data] Downloading package stopwords to /home/gitpod/nltk_data...\n",
                        "[nltk_data]   Package stopwords is already up-to-date!\n"
                    ]
                },
                {
                    "data": {
                        "text/plain": [
                            "True"
                        ]
                    },
                    "execution_count": 4,
                    "metadata": {},
                    "output_type": "execute_result"
                }
            ],
            "source": [
                "import pandas as pd\n",
                "import regex as re\n",
                "import matplotlib.pyplot as plt\n",
                "import nltk\n",
                "\n",
                "from nltk.corpus import stopwords\n",
                "import unicodedata\n",
                "\n",
                "from sklearn.feature_extraction.text import CountVectorizer\n",
                "from sklearn.model_selection import train_test_split\n",
                "from sklearn import model_selection, svm\n",
                "from sklearn.metrics import classification_report, accuracy_score\n",
                "\n",
                "nltk.download('stopwords')"
            ]
        },
        {
            "cell_type": "code",
            "execution_count": 5,
            "metadata": {},
            "outputs": [],
            "source": [
                "df = pd.read_csv(\"https://raw.githubusercontent.com/4GeeksAcademy/NLP-project-tutorial/main/url_spam.csv\")"
            ]
        },
        {
            "cell_type": "code",
            "execution_count": 6,
            "metadata": {},
            "outputs": [
                {
                    "name": "stdout",
                    "output_type": "stream",
                    "text": [
                        "<class 'pandas.core.frame.DataFrame'>\n",
                        "RangeIndex: 2999 entries, 0 to 2998\n",
                        "Data columns (total 2 columns):\n",
                        " #   Column   Non-Null Count  Dtype \n",
                        "---  ------   --------------  ----- \n",
                        " 0   url      2999 non-null   object\n",
                        " 1   is_spam  2999 non-null   bool  \n",
                        "dtypes: bool(1), object(1)\n",
                        "memory usage: 26.5+ KB\n"
                    ]
                }
            ],
            "source": [
                "df.info()"
            ]
        },
        {
            "cell_type": "code",
            "execution_count": 7,
            "metadata": {},
            "outputs": [
                {
                    "data": {
                        "text/html": [
                            "<div>\n",
                            "<style scoped>\n",
                            "    .dataframe tbody tr th:only-of-type {\n",
                            "        vertical-align: middle;\n",
                            "    }\n",
                            "\n",
                            "    .dataframe tbody tr th {\n",
                            "        vertical-align: top;\n",
                            "    }\n",
                            "\n",
                            "    .dataframe thead th {\n",
                            "        text-align: right;\n",
                            "    }\n",
                            "</style>\n",
                            "<table border=\"1\" class=\"dataframe\">\n",
                            "  <thead>\n",
                            "    <tr style=\"text-align: right;\">\n",
                            "      <th></th>\n",
                            "      <th>url</th>\n",
                            "      <th>is_spam</th>\n",
                            "    </tr>\n",
                            "  </thead>\n",
                            "  <tbody>\n",
                            "    <tr>\n",
                            "      <th>1175</th>\n",
                            "      <td>https://www.zooniverse.org/projects/hiro-ono/a...</td>\n",
                            "      <td>False</td>\n",
                            "    </tr>\n",
                            "    <tr>\n",
                            "      <th>465</th>\n",
                            "      <td>https://www.theskimm.com/skimmpicks</td>\n",
                            "      <td>True</td>\n",
                            "    </tr>\n",
                            "    <tr>\n",
                            "      <th>2245</th>\n",
                            "      <td>https://www.voxmedia.com/legal/terms-of-use</td>\n",
                            "      <td>True</td>\n",
                            "    </tr>\n",
                            "    <tr>\n",
                            "      <th>328</th>\n",
                            "      <td>https://shop.morningbrew.com/</td>\n",
                            "      <td>True</td>\n",
                            "    </tr>\n",
                            "    <tr>\n",
                            "      <th>2847</th>\n",
                            "      <td>https://numlock.substack.com/p/numlock-sunday-...</td>\n",
                            "      <td>True</td>\n",
                            "    </tr>\n",
                            "    <tr>\n",
                            "      <th>2169</th>\n",
                            "      <td>https://www.propublica.org/article/how-north-c...</td>\n",
                            "      <td>False</td>\n",
                            "    </tr>\n",
                            "    <tr>\n",
                            "      <th>1699</th>\n",
                            "      <td>https://www.bbc.com/worklife/article/20200624-...</td>\n",
                            "      <td>False</td>\n",
                            "    </tr>\n",
                            "    <tr>\n",
                            "      <th>912</th>\n",
                            "      <td>https://qz.com/quartzy/1300989/the-best-way-to...</td>\n",
                            "      <td>False</td>\n",
                            "    </tr>\n",
                            "    <tr>\n",
                            "      <th>2677</th>\n",
                            "      <td>https://www.cnn.com/2020/06/28/business/facebo...</td>\n",
                            "      <td>False</td>\n",
                            "    </tr>\n",
                            "    <tr>\n",
                            "      <th>1746</th>\n",
                            "      <td>https://thehustle.co/</td>\n",
                            "      <td>True</td>\n",
                            "    </tr>\n",
                            "  </tbody>\n",
                            "</table>\n",
                            "</div>"
                        ],
                        "text/plain": [
                            "                                                    url  is_spam\n",
                            "1175  https://www.zooniverse.org/projects/hiro-ono/a...    False\n",
                            "465                 https://www.theskimm.com/skimmpicks     True\n",
                            "2245        https://www.voxmedia.com/legal/terms-of-use     True\n",
                            "328                       https://shop.morningbrew.com/     True\n",
                            "2847  https://numlock.substack.com/p/numlock-sunday-...     True\n",
                            "2169  https://www.propublica.org/article/how-north-c...    False\n",
                            "1699  https://www.bbc.com/worklife/article/20200624-...    False\n",
                            "912   https://qz.com/quartzy/1300989/the-best-way-to...    False\n",
                            "2677  https://www.cnn.com/2020/06/28/business/facebo...    False\n",
                            "1746                              https://thehustle.co/     True"
                        ]
                    },
                    "execution_count": 7,
                    "metadata": {},
                    "output_type": "execute_result"
                }
            ],
            "source": [
                "df.sample(10)"
            ]
        },
        {
            "cell_type": "code",
            "execution_count": 8,
            "metadata": {},
            "outputs": [],
            "source": [
                "df['is_spam'] = df['is_spam'].apply(lambda x: 1 if x == True else 0) #columna categorica la pasamos a 0 y 1"
            ]
        },
        {
            "cell_type": "code",
            "execution_count": 10,
            "metadata": {},
            "outputs": [
                {
                    "name": "stdout",
                    "output_type": "stream",
                    "text": [
                        "Cant spam: 244\n",
                        "Cant q no es spam: 2125\n",
                        "(2369, 2)\n"
                    ]
                }
            ],
            "source": [
                "print(\"Cant spam: \" +str(len(df.loc[df.is_spam==1])))\n",
                "print(\"Cant q no es spam: \" +str(len(df.loc[df.is_spam==0])))\n",
                "print(df.shape)\n",
                "#df['is_spam'] = df['is_spam'].astype(int) #otra forma!"
            ]
        },
        {
            "cell_type": "code",
            "execution_count": 9,
            "metadata": {},
            "outputs": [],
            "source": [
                "df = df.drop_duplicates()\n",
                "df = df.reset_index(inplace = False)[['url','is_spam']]"
            ]
        },
        {
            "cell_type": "code",
            "execution_count": 11,
            "metadata": {},
            "outputs": [],
            "source": [
                "df['url'] = df['url'].str.lower() \n"
            ]
        },
        {
            "cell_type": "code",
            "execution_count": 13,
            "metadata": {},
            "outputs": [],
            "source": [
                "stop=stopwords.words('english')\n",
                "\n",
                "def remove_stopwords(message):\n",
                "    if message is not None:\n",
                "        words = message.strip().split()\n",
                "        words_filtered = []\n",
                "        for word in words:\n",
                "            if word not in stop:\n",
                "                words_filtered.append(word)\n",
                "        result = \" \".join(words_filtered)  \n",
                "    else:\n",
                "        result=None\n",
                "    return result\n",
                "\n",
                "def clean_text_digits(texto):\n",
                "    #'''Match all digits in the string and replace them by empty string.'''\n",
                "    if texto is not None:\n",
                "        pattern1 = r'[0-9]'\n",
                "        pattern2 = '[^a-zA-Z]'\n",
                "        pattern3 = \"(\\\\d|\\\\W)+\"\n",
                "        pattern4 = r'http(s)'\n",
                "        result = re.sub(pattern1, '', texto)\n",
                "        result = re.sub(pattern2, '', result)\n",
                "        result = re.sub(pattern3, '', result)\n",
                "        result = re.sub(pattern4, '', result)\n",
                "    else:\n",
                "        result=None\n",
                "    return result\n",
                "\n",
                "#df['url']=df['url'].apply(remove_stopwords)\n",
                "df['url']=df['url'].apply(clean_text_digits)\n",
                "\n",
                "#df['url'] = df['url'].str.replace(r'http(s)', '', regex=True)"
            ]
        },
        {
            "cell_type": "code",
            "execution_count": 14,
            "metadata": {},
            "outputs": [
                {
                    "data": {
                        "text/plain": [
                            "0                   briefingdayuslistmanagecomunsubscribe\n",
                            "1                                             wwwhvpercom\n",
                            "2                                     briefingdaycommvnif\n",
                            "3                             briefingdaycomnmcommentform\n",
                            "4                                       briefingdaycomfan\n",
                            "                              ...                        \n",
                            "2364    wwwthevergecomdisneydeepfakefaceswappingresear...\n",
                            "2365    wwwsmartcitiesworldnetnewsnewsdeepfaketechnolo...\n",
                            "2366             techcrunchcomanoptimisticviewofdeepfakes\n",
                            "2367    wwwtechnologyreviewcomthisstartupclaimsitsdeep...\n",
                            "2368                              wwwbbccomnewstechnology\n",
                            "Name: url, Length: 2369, dtype: object"
                        ]
                    },
                    "execution_count": 14,
                    "metadata": {},
                    "output_type": "execute_result"
                }
            ],
            "source": [
                "df['url'] "
            ]
        },
        {
            "cell_type": "code",
            "execution_count": 15,
            "metadata": {},
            "outputs": [],
            "source": [
                "#limpio\n",
                "def normalize_string(text_string):\n",
                "    if text_string is not None:\n",
                "        result = unicodedata.normalize('NFD',text_string).encode('ascii','ignore').decode()\n",
                "    else:\n",
                "        result = None\n",
                "    return result"
            ]
        },
        {
            "cell_type": "code",
            "execution_count": 16,
            "metadata": {},
            "outputs": [],
            "source": [
                "df['len_url'] = df['url'].apply(lambda x : len(x))\n",
                "df['contains_subscribe'] = df['url'].apply(lambda x : 1 if \"subscribe\" in x else 0)\n",
                "df['contains_hash'] = df['url'].apply(lambda x : 1 if \"#\" in x else 0)\n",
                "df['num_digits'] = df['url'].apply(lambda x : len(\"\".join(_ for _ in x if _.isdigit())) )\n",
                "df['non_https'] = df['url'].apply(lambda x : 1 if \"https\" in x else 0)\n",
                "df['num_words'] = df['url'].apply(lambda x : len(x.split(\"/\")))\n",
                "\n",
                "target = 'is_spam'\n",
                "features = [f for f in df.columns if f not in [\"url\", target]]\n",
                "X_train, X_test, y_train, y_test = train_test_split(df[features], df[target], test_size=0.2, random_state=0)"
            ]
        },
        {
            "cell_type": "code",
            "execution_count": 17,
            "metadata": {},
            "outputs": [],
            "source": [
                "message_vectorizer = CountVectorizer().fit_transform(df['url'])"
            ]
        },
        {
            "cell_type": "code",
            "execution_count": 18,
            "metadata": {},
            "outputs": [],
            "source": [
                "X_train, X_test, y_train, y_test = train_test_split(message_vectorizer, df['is_spam'], test_size = 0.45, random_state = 42, shuffle = True)"
            ]
        },
        {
            "cell_type": "code",
            "execution_count": 19,
            "metadata": {},
            "outputs": [],
            "source": [
                "classifier = svm.SVC(C=1.0, kernel='linear', degree=3, gamma='auto')"
            ]
        },
        {
            "cell_type": "code",
            "execution_count": 20,
            "metadata": {},
            "outputs": [
                {
                    "name": "stdout",
                    "output_type": "stream",
                    "text": [
                        "              precision    recall  f1-score   support\n",
                        "\n",
                        "           0       0.90      1.00      0.95       959\n",
                        "           1       0.50      0.01      0.02       108\n",
                        "\n",
                        "    accuracy                           0.90      1067\n",
                        "   macro avg       0.70      0.50      0.48      1067\n",
                        "weighted avg       0.86      0.90      0.85      1067\n",
                        "\n"
                    ]
                }
            ],
            "source": [
                "classifier.fit(X_train, y_train)\n",
                "predictions = classifier.predict(X_test)\n",
                "print(classification_report(y_test, predictions))"
            ]
        },
        {
            "cell_type": "code",
            "execution_count": 21,
            "metadata": {},
            "outputs": [
                {
                    "name": "stdout",
                    "output_type": "stream",
                    "text": [
                        "SVM Accuracy Score ->  89.87816307403936\n"
                    ]
                }
            ],
            "source": [
                "print(\"SVM Accuracy Score -> \",accuracy_score(predictions, y_test)*100)"
            ]
        },
        {
            "cell_type": "code",
            "execution_count": 22,
            "metadata": {},
            "outputs": [
                {
                    "name": "stdout",
                    "output_type": "stream",
                    "text": [
                        "Our model achieved 89.88% accuracy!\n"
                    ]
                }
            ],
            "source": [
                "svm_accuracy_score = round(accuracy_score(predictions, y_test)*100,2)\n",
                "\n",
                "print(f'Our model achieved {svm_accuracy_score}% accuracy!')"
            ]
        },
        {
            "cell_type": "markdown",
            "metadata": {},
            "source": [
                "Our model achieved 93% accuracy!"
            ]
        }
    ],
    "metadata": {
        "kernelspec": {
            "display_name": "Python 3.8.13 64-bit ('3.8.13')",
            "language": "python",
            "name": "python3"
        },
        "language_info": {
            "codemirror_mode": {
                "name": "ipython",
                "version": 3
            },
            "file_extension": ".py",
            "mimetype": "text/x-python",
            "name": "python",
            "nbconvert_exporter": "python",
            "pygments_lexer": "ipython3",
            "version": "3.8.13"
        },
        "orig_nbformat": 4,
        "vscode": {
            "interpreter": {
                "hash": "110cc1dee26208153f2972f08a2ad52b6a56238dc66d48e87fb757ef2996db56"
            }
        }
    },
    "nbformat": 4,
    "nbformat_minor": 2
}

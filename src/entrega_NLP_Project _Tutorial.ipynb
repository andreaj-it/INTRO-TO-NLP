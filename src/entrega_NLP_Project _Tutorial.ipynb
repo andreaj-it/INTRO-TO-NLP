{
    "cells": [
        {
            "cell_type": "markdown",
            "metadata": {},
            "source": [
                "In our last exploring NLP notebook we built an email spam detector using Natural Language Processing techniques and the Support Vector Machine (SVM) algorithm for classification.\n",
                "In this project, we will again build a spam detector but this time using URLs instead of emails."
            ]
        },
        {
            "cell_type": "code",
            "execution_count": 8,
            "metadata": {},
            "outputs": [
                {
                    "name": "stderr",
                    "output_type": "stream",
                    "text": [
                        "[nltk_data] Downloading package stopwords to /home/gitpod/nltk_data...\n",
                        "[nltk_data]   Package stopwords is already up-to-date!\n"
                    ]
                },
                {
                    "data": {
                        "text/plain": [
                            "True"
                        ]
                    },
                    "execution_count": 8,
                    "metadata": {},
                    "output_type": "execute_result"
                }
            ],
            "source": [
                "import pandas as pd\n",
                "import regex as re\n",
                "import matplotlib.pyplot as plt\n",
                "import nltk\n",
                "\n",
                "from nltk.corpus import stopwords\n",
                "import unicodedata\n",
                "\n",
                "from sklearn.feature_extraction.text import CountVectorizer\n",
                "from sklearn.model_selection import train_test_split\n",
                "from sklearn import model_selection, svm\n",
                "from sklearn.metrics import classification_report, accuracy_score\n",
                "\n",
                "nltk.download('stopwords')"
            ]
        },
        {
            "cell_type": "code",
            "execution_count": 12,
            "metadata": {},
            "outputs": [],
            "source": [
                "df = pd.read_csv(\"https://raw.githubusercontent.com/4GeeksAcademy/NLP-project-tutorial/main/url_spam.csv\")"
            ]
        },
        {
            "cell_type": "code",
            "execution_count": 13,
            "metadata": {},
            "outputs": [
                {
                    "name": "stdout",
                    "output_type": "stream",
                    "text": [
                        "<class 'pandas.core.frame.DataFrame'>\n",
                        "RangeIndex: 2999 entries, 0 to 2998\n",
                        "Data columns (total 2 columns):\n",
                        " #   Column   Non-Null Count  Dtype \n",
                        "---  ------   --------------  ----- \n",
                        " 0   url      2999 non-null   object\n",
                        " 1   is_spam  2999 non-null   bool  \n",
                        "dtypes: bool(1), object(1)\n",
                        "memory usage: 26.5+ KB\n"
                    ]
                }
            ],
            "source": [
                "df.info()"
            ]
        },
        {
            "cell_type": "code",
            "execution_count": 14,
            "metadata": {},
            "outputs": [
                {
                    "data": {
                        "text/html": [
                            "<div>\n",
                            "<style scoped>\n",
                            "    .dataframe tbody tr th:only-of-type {\n",
                            "        vertical-align: middle;\n",
                            "    }\n",
                            "\n",
                            "    .dataframe tbody tr th {\n",
                            "        vertical-align: top;\n",
                            "    }\n",
                            "\n",
                            "    .dataframe thead th {\n",
                            "        text-align: right;\n",
                            "    }\n",
                            "</style>\n",
                            "<table border=\"1\" class=\"dataframe\">\n",
                            "  <thead>\n",
                            "    <tr style=\"text-align: right;\">\n",
                            "      <th></th>\n",
                            "      <th>url</th>\n",
                            "      <th>is_spam</th>\n",
                            "    </tr>\n",
                            "  </thead>\n",
                            "  <tbody>\n",
                            "    <tr>\n",
                            "      <th>2126</th>\n",
                            "      <td>https://www.doordash.com/</td>\n",
                            "      <td>False</td>\n",
                            "    </tr>\n",
                            "    <tr>\n",
                            "      <th>2577</th>\n",
                            "      <td>https://docs.google.com/forms/d/e/1FAIpQLSew3g...</td>\n",
                            "      <td>True</td>\n",
                            "    </tr>\n",
                            "    <tr>\n",
                            "      <th>2904</th>\n",
                            "      <td>https://www.si.com/sports-illustrated/2020/06/...</td>\n",
                            "      <td>False</td>\n",
                            "    </tr>\n",
                            "    <tr>\n",
                            "      <th>2625</th>\n",
                            "      <td>https://www.nytimes.com/2020/06/29/climate/hou...</td>\n",
                            "      <td>False</td>\n",
                            "    </tr>\n",
                            "    <tr>\n",
                            "      <th>1029</th>\n",
                            "      <td>https://www.youtube.com/watch?v=OqRWb9JQW_0</td>\n",
                            "      <td>False</td>\n",
                            "    </tr>\n",
                            "    <tr>\n",
                            "      <th>378</th>\n",
                            "      <td>https://briefingday.us8.list-manage.com/unsubs...</td>\n",
                            "      <td>True</td>\n",
                            "    </tr>\n",
                            "    <tr>\n",
                            "      <th>175</th>\n",
                            "      <td>https://www.npr.org/2020/05/20/858347477/money...</td>\n",
                            "      <td>False</td>\n",
                            "    </tr>\n",
                            "    <tr>\n",
                            "      <th>1494</th>\n",
                            "      <td>https://www.theguardian.com/commentisfree/2020...</td>\n",
                            "      <td>False</td>\n",
                            "    </tr>\n",
                            "    <tr>\n",
                            "      <th>2884</th>\n",
                            "      <td>https://hyperapp.dev/</td>\n",
                            "      <td>False</td>\n",
                            "    </tr>\n",
                            "    <tr>\n",
                            "      <th>1077</th>\n",
                            "      <td>https://hirshhorn.si.edu/hirshhorninsideout/</td>\n",
                            "      <td>False</td>\n",
                            "    </tr>\n",
                            "  </tbody>\n",
                            "</table>\n",
                            "</div>"
                        ],
                        "text/plain": [
                            "                                                    url  is_spam\n",
                            "2126                          https://www.doordash.com/    False\n",
                            "2577  https://docs.google.com/forms/d/e/1FAIpQLSew3g...     True\n",
                            "2904  https://www.si.com/sports-illustrated/2020/06/...    False\n",
                            "2625  https://www.nytimes.com/2020/06/29/climate/hou...    False\n",
                            "1029        https://www.youtube.com/watch?v=OqRWb9JQW_0    False\n",
                            "378   https://briefingday.us8.list-manage.com/unsubs...     True\n",
                            "175   https://www.npr.org/2020/05/20/858347477/money...    False\n",
                            "1494  https://www.theguardian.com/commentisfree/2020...    False\n",
                            "2884                              https://hyperapp.dev/    False\n",
                            "1077       https://hirshhorn.si.edu/hirshhorninsideout/    False"
                        ]
                    },
                    "execution_count": 14,
                    "metadata": {},
                    "output_type": "execute_result"
                }
            ],
            "source": [
                "df.sample(10)"
            ]
        },
        {
            "cell_type": "code",
            "execution_count": 19,
            "metadata": {},
            "outputs": [],
            "source": [
                "df['is_spam'] = df['is_spam'].apply(lambda x: 1 if x == True else 0) #columna categorica la pasamos a 0 y 1"
            ]
        },
        {
            "cell_type": "code",
            "execution_count": 20,
            "metadata": {},
            "outputs": [
                {
                    "name": "stdout",
                    "output_type": "stream",
                    "text": [
                        "Cant spam: 0\n",
                        "Cant q no es spam: 2999\n",
                        "(2999, 2)\n"
                    ]
                }
            ],
            "source": [
                "print(\"Cant spam: \" +str(len(df.loc[df.is_spam==1])))\n",
                "print(\"Cant q no es spam: \" +str(len(df.loc[df.is_spam==0])))\n",
                "print(df.shape)\n",
                "#df['is_spam'] = df['is_spam'].astype(int) #otra forma!"
            ]
        },
        {
            "cell_type": "code",
            "execution_count": 21,
            "metadata": {},
            "outputs": [],
            "source": [
                "df['url'] = df['url'].str.lower() \n"
            ]
        },
        {
            "cell_type": "code",
            "execution_count": 25,
            "metadata": {},
            "outputs": [],
            "source": [
                "stop=stopwords.words('english')\n",
                "\n",
                "def remove_stopwords(message):\n",
                "    if message is not None:\n",
                "        words = message.strip().split()\n",
                "        words_filtered = []\n",
                "        for word in words:\n",
                "            if word not in stop:\n",
                "                words_filtered.append(word)\n",
                "        result = \" \".join(words_filtered)  \n",
                "    else:\n",
                "        result=None\n",
                "    return result\n",
                "\n",
                "def clean_text_digits(texto):\n",
                "    #'''Match all digits in the string and replace them by empty string.'''\n",
                "    if texto is not None:\n",
                "        pattern1 = r'[0-9]'\n",
                "        pattern2 = '[^a-zA-Z]'\n",
                "        pattern3 = \"(\\\\d|\\\\W)+\"\n",
                "        pattern4 = r'http(s)'\n",
                "        result = re.sub(pattern1, '', texto)\n",
                "        result = re.sub(pattern2, '', result)\n",
                "        result = re.sub(pattern3, '', result)\n",
                "        result = re.sub(pattern4, '', result)\n",
                "    else:\n",
                "        result=None\n",
                "    return result\n",
                "\n",
                "#df['url']=df['url'].apply(remove_stopwords)\n",
                "df['url']=df['url'].apply(clean_text_digits)\n",
                "\n",
                "#df['url'] = df['url'].str.replace(r'http(s)', '', regex=True)"
            ]
        },
        {
            "cell_type": "code",
            "execution_count": 26,
            "metadata": {},
            "outputs": [
                {
                    "data": {
                        "text/plain": [
                            "0                   briefingdayuslistmanagecomunsubscribe\n",
                            "1                                             wwwhvpercom\n",
                            "2                                     briefingdaycommvnif\n",
                            "3                             briefingdaycomnmcommentform\n",
                            "4                                       briefingdaycomfan\n",
                            "                              ...                        \n",
                            "2994    wwwsmartcitiesworldnetnewsnewsdeepfaketechnolo...\n",
                            "2995                                   wwwyoutubecomwatch\n",
                            "2996             techcrunchcomanoptimisticviewofdeepfakes\n",
                            "2997    wwwtechnologyreviewcomthisstartupclaimsitsdeep...\n",
                            "2998                              wwwbbccomnewstechnology\n",
                            "Name: url, Length: 2999, dtype: object"
                        ]
                    },
                    "execution_count": 26,
                    "metadata": {},
                    "output_type": "execute_result"
                }
            ],
            "source": [
                "df['url'] "
            ]
        },
        {
            "cell_type": "code",
            "execution_count": null,
            "metadata": {},
            "outputs": [],
            "source": [
                "#limpio\n",
                "def normalize_string(text_string):\n",
                "    if text_string is not None:\n",
                "        result = unicodedata.normalize('NFD',text_string).encode('ascii','ignore').decode()\n",
                "    else:\n",
                "        result = None\n",
                "    return result"
            ]
        },
        {
            "cell_type": "code",
            "execution_count": null,
            "metadata": {},
            "outputs": [],
            "source": [
                "df['len_url'] = df['url'].apply(lambda x : len(x))\n",
                "df['contains_subscribe'] = df['url'].apply(lambda x : 1 if \"subscribe\" in x else 0)\n",
                "df['contains_hash'] = df['url'].apply(lambda x : 1 if \"#\" in x else 0)\n",
                "df['num_digits'] = df['url'].apply(lambda x : len(\"\".join(_ for _ in x if _.isdigit())) )\n",
                "df['non_https'] = df['url'].apply(lambda x : 1 if \"https\" in x else 0)\n",
                "df['num_words'] = df['url'].apply(lambda x : len(x.split(\"/\")))\n",
                "\n",
                "target = 'is_spam'\n",
                "features = [f for f in df.columns if f not in [\"url\", target]]\n",
                "X_train, X_test, y_train, y_test = train_test_split(df[features], df[target], test_size=0.2, random_state=0)"
            ]
        }
    ],
    "metadata": {
        "kernelspec": {
            "display_name": "Python 3.8.13 64-bit ('3.8.13')",
            "language": "python",
            "name": "python3"
        },
        "language_info": {
            "codemirror_mode": {
                "name": "ipython",
                "version": 3
            },
            "file_extension": ".py",
            "mimetype": "text/x-python",
            "name": "python",
            "nbconvert_exporter": "python",
            "pygments_lexer": "ipython3",
            "version": "3.8.13"
        },
        "orig_nbformat": 4,
        "vscode": {
            "interpreter": {
                "hash": "110cc1dee26208153f2972f08a2ad52b6a56238dc66d48e87fb757ef2996db56"
            }
        }
    },
    "nbformat": 4,
    "nbformat_minor": 2
}
